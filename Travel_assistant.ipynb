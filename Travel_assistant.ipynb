{
 "cells": [
  {
   "cell_type": "code",
   "execution_count": null,
   "id": "6d2dae5e-3ce3-4973-9028-162197ffe3ea",
   "metadata": {},
   "outputs": [],
   "source": [
    "#install ffmpeg\n",
    "# brew install ffmpeg -> if needed\n",
    "# conda install -c conda-forge ffmpeg\n",
    "\n",
    "%pip install langchain_community\n",
    "%pip install gradio\n",
    "%pip install git+https://github.com/openai/whisper.git\n",
    "%pip install whisper"
   ]
  },
  {
   "cell_type": "code",
   "execution_count": 1,
   "id": "259d20c2-f30e-4c59-a220-c9714e5f027a",
   "metadata": {
    "scrolled": true
   },
   "outputs": [
    {
     "name": "stderr",
     "output_type": "stream",
     "text": [
      "/opt/anaconda3/envs/Travel_assistance/lib/python3.12/site-packages/tqdm/auto.py:21: TqdmWarning: IProgress not found. Please update jupyter and ipywidgets. See https://ipywidgets.readthedocs.io/en/stable/user_install.html\n",
      "  from .autonotebook import tqdm as notebook_tqdm\n"
     ]
    }
   ],
   "source": [
    "from langchain_ollama import OllamaLLM\n",
    "import gradio as gr\n",
    "import json\n",
    "import whisper\n",
    "import torch"
   ]
  },
  {
   "cell_type": "code",
   "execution_count": 2,
   "id": "594d5759-f159-483d-bfd3-fb251b7e113b",
   "metadata": {},
   "outputs": [
    {
     "name": "stdout",
     "output_type": "stream",
     "text": [
      "/opt/anaconda3/envs/Travel_assistance/bin/ffmpeg\n"
     ]
    }
   ],
   "source": [
    "#Check if ffmpeg is available\n",
    "\n",
    "import shutil\n",
    "print(shutil.which(\"ffmpeg\"))"
   ]
  },
  {
   "cell_type": "code",
   "execution_count": 3,
   "id": "da586f70-b713-4ab5-b5aa-40cffaea475a",
   "metadata": {
    "editable": true,
    "slideshow": {
     "slide_type": ""
    },
    "tags": []
   },
   "outputs": [],
   "source": [
    "def get_language(country, file):\n",
    "    with open(file, 'r') as f:\n",
    "        data = json.load(f)\n",
    "    return data[country]"
   ]
  },
  {
   "cell_type": "code",
   "execution_count": 4,
   "id": "c6a9e1bf-f1f4-4e46-a354-58f42b7d0799",
   "metadata": {},
   "outputs": [],
   "source": [
    "def get_examples(file):\n",
    "    with open(file, 'r') as f:\n",
    "        data = f.read()\n",
    "    return data"
   ]
  },
  {
   "cell_type": "code",
   "execution_count": 5,
   "id": "fffbb911-ab95-4971-a5f9-9b2020812cec",
   "metadata": {},
   "outputs": [],
   "source": [
    "def llm(text, audio, country, number):\n",
    "    task = match_task(text, audio)\n",
    "    llm = OllamaLLM(model=\"mistral-nemo\")\n",
    "    lang = get_language(country, file=\"utils/country_to_language.json\")\n",
    "    few_shot = get_examples(file=\"utils/fewshot_learning.txt\")\n",
    "    context = f\"You are a helpful assistant. You give an enumerated list of phrases. You answer concisely and only in {lang}.\"\n",
    "    icl = f\"For example, {few_shot}\"\n",
    "    query = f\"I'm travelling to {country}. Which {number} most popular phrases should I learn to {task}?\"\n",
    "    phrases = llm.invoke(context+icl+query)\n",
    "    return phrases"
   ]
  },
  {
   "cell_type": "code",
   "execution_count": 6,
   "id": "a6dcfab4-d4be-4377-abdb-909f691f7941",
   "metadata": {},
   "outputs": [],
   "source": [
    "def match_task(text, audio):\n",
    "    if text and audio:\n",
    "        return text\n",
    "    elif text:\n",
    "        return text\n",
    "    elif audio:\n",
    "        return transcribe_audio(audio)\n",
    "    else:\n",
    "        return ReferenceError(\"No input provided.\")"
   ]
  },
  {
   "cell_type": "code",
   "execution_count": 7,
   "id": "44409dcc-4653-4527-9517-1d30c8971284",
   "metadata": {},
   "outputs": [],
   "source": [
    "def transcribe_audio(audio_file):\n",
    "    model = whisper.load_model(\"base\")\n",
    "    audio = whisper.load_audio(audio_file,sr=16000)\n",
    "    audio_tensor = torch.from_numpy(audio).to(torch.float32)\n",
    "    result = model.transcribe(audio_tensor, fp16=False)['text']\n",
    "    return result"
   ]
  },
  {
   "cell_type": "code",
   "execution_count": null,
   "id": "36af0d9c-8256-491d-9611-200af0d313a6",
   "metadata": {
    "editable": true,
    "slideshow": {
     "slide_type": ""
    },
    "tags": []
   },
   "outputs": [
    {
     "name": "stdout",
     "output_type": "stream",
     "text": [
      "* Running on local URL:  http://127.0.0.1:7860\n",
      "\n",
      "To create a public link, set `share=True` in `launch()`.\n"
     ]
    },
    {
     "data": {
      "text/html": [
       "<div><iframe src=\"http://127.0.0.1:7860/\" width=\"100%\" height=\"500\" allow=\"autoplay; camera; microphone; clipboard-read; clipboard-write;\" frameborder=\"0\" allowfullscreen></iframe></div>"
      ],
      "text/plain": [
       "<IPython.core.display.HTML object>"
      ]
     },
     "metadata": {},
     "output_type": "display_data"
    },
    {
     "name": "stderr",
     "output_type": "stream",
     "text": [
      "/opt/anaconda3/envs/Travel_assistance/lib/python3.12/site-packages/whisper/__init__.py:150: FutureWarning: You are using `torch.load` with `weights_only=False` (the current default value), which uses the default pickle module implicitly. It is possible to construct malicious pickle data which will execute arbitrary code during unpickling (See https://github.com/pytorch/pytorch/blob/main/SECURITY.md#untrusted-models for more details). In a future release, the default value for `weights_only` will be flipped to `True`. This limits the functions that could be executed during unpickling. Arbitrary objects will no longer be allowed to be loaded via this mode unless they are explicitly allowlisted by the user via `torch.serialization.add_safe_globals`. We recommend you start setting `weights_only=True` for any use case where you don't have full control of the loaded file. Please open an issue on GitHub for any issues related to this experimental feature.\n",
      "  checkpoint = torch.load(fp, map_location=device)\n"
     ]
    }
   ],
   "source": [
    "#function to launch the application    \n",
    "demo = gr.Blocks()\n",
    "#create a gradio interface\n",
    "with gr.Blocks(theme=gr.themes.Soft()) as demo:\n",
    "    gr.Markdown(\"# Assistant for Travelers\")\n",
    "    gr.Markdown(\"### What do you want to do: order food in the restaurant, ask for direction, buy tickets?\")\n",
    "    gr.Markdown(\"### Record audio or enter text.\")\n",
    "    #create a row with two columns\n",
    "    with gr.Row():\n",
    "        with gr.Column():\n",
    "            text = gr.Textbox(label=\"Enter text\", placeholder=\"order food, ask for directions, etc.\")\n",
    "        with gr.Column():\n",
    "            audio = gr.Audio(sources=[\"microphone\"], label=\"Record your voice\", type=\"filepath\", max_length=20) \n",
    "    # create a row with two blocks\n",
    "    with gr.Row():\n",
    "        country = gr.Radio([\"France\", \"Germany\", \"Italy\", \"Spain\"], label=\"Location\", info=\"Where are you travelling?\")\n",
    "        num = gr.Slider(0, 10, value=5, step=1, info=\"How many phrases?\", label=\"Number of phrases\")    \n",
    "\n",
    "    #create a row for response\n",
    "    with gr.Row():\n",
    "        out = gr.Textbox(label=\"Response\")\n",
    "    #create a row with two buttons\n",
    "    with gr.Row():\n",
    "        with gr.Column():\n",
    "            response = gr.Button(\"Generate response\", variant=\"primary\")\n",
    "        with gr.Column():\n",
    "            clear = gr.ClearButton([text, audio, country, out])\n",
    "    \n",
    "    response.click(fn=llm, inputs=[text, audio, country, num], outputs=out)\n",
    "\n",
    "demo.launch(share=False, debug=True)"
   ]
  }
 ],
 "metadata": {
  "kernelspec": {
   "display_name": "Python 3 (ipykernel)",
   "language": "python",
   "name": "python3"
  },
  "language_info": {
   "codemirror_mode": {
    "name": "ipython",
    "version": 3
   },
   "file_extension": ".py",
   "mimetype": "text/x-python",
   "name": "python",
   "nbconvert_exporter": "python",
   "pygments_lexer": "ipython3",
   "version": "3.12.2"
  }
 },
 "nbformat": 4,
 "nbformat_minor": 5
}
